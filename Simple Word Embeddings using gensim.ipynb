{
 "cells": [
  {
   "cell_type": "code",
   "execution_count": 1,
   "metadata": {},
   "outputs": [],
   "source": [
    "import gensim\n",
    "import pandas as pd\n",
    "import tensorflow_datasets as tfds"
   ]
  },
  {
   "cell_type": "code",
   "execution_count": 2,
   "metadata": {},
   "outputs": [],
   "source": [
    "#Loading the data\n",
    "agnews,info = tfds.load(name = 'ag_news_subset',as_supervised = True, with_info = True)"
   ]
  },
  {
   "cell_type": "code",
   "execution_count": 3,
   "metadata": {},
   "outputs": [
    {
     "name": "stdout",
     "output_type": "stream",
     "text": [
      "127600\n"
     ]
    }
   ],
   "source": [
    "# Appending the train and test sentences to a list\n",
    "corpus_train = agnews['train']\n",
    "corpus_test = agnews['test']\n",
    "conv = []\n",
    "for s,l in corpus_train:\n",
    "    conv.append(s.numpy().decode('utf8'))\n",
    "    \n",
    "for s,l in corpus_test:\n",
    "    conv.append(s.numpy().decode('utf8'))\n",
    "print(len(conv))"
   ]
  },
  {
   "cell_type": "code",
   "execution_count": 4,
   "metadata": {},
   "outputs": [],
   "source": [
    "# Converting the list into series\n",
    "data_s = pd.Series(conv)"
   ]
  },
  {
   "cell_type": "code",
   "execution_count": 5,
   "metadata": {},
   "outputs": [
    {
     "data": {
      "text/plain": [
       "0         [amd, new, dual, core, opteron, chip, is, desi...\n",
       "1         [reuters, major, league, baseball, monday, ann...\n",
       "2         [president, bush, quot, revenue, neutral, quot...\n",
       "3         [britain, will, run, out, of, leading, scienti...\n",
       "4         [london, england, sports, network, england, mi...\n",
       "                                ...                        \n",
       "127595    [it, took, days, for, russia, security, servic...\n",
       "127596    [montreal, air, canada, said, it, sealed, deal...\n",
       "127597    [the, administration, issued, report, indicati...\n",
       "127598    [los, gatos, calf, shares, of, mail, order, dv...\n",
       "127599    [former, philadelphia, phillies, catcher, john...\n",
       "Length: 127600, dtype: object"
      ]
     },
     "execution_count": 5,
     "metadata": {},
     "output_type": "execute_result"
    }
   ],
   "source": [
    "# pre-processing the sentences by removing unnecessary words and punctuations.\n",
    "data = data_s.apply(gensim.utils.simple_preprocess)\n",
    "data"
   ]
  },
  {
   "cell_type": "code",
   "execution_count": 6,
   "metadata": {},
   "outputs": [],
   "source": [
    "model = gensim.models.Word2Vec( window = 5, min_count = 2, workers = 4)"
   ]
  },
  {
   "cell_type": "code",
   "execution_count": 7,
   "metadata": {},
   "outputs": [],
   "source": [
    "model.build_vocab(data, progress_per = 1000)"
   ]
  },
  {
   "cell_type": "code",
   "execution_count": 8,
   "metadata": {},
   "outputs": [
    {
     "data": {
      "text/plain": [
       "(15789203, 19053875)"
      ]
     },
     "execution_count": 8,
     "metadata": {},
     "output_type": "execute_result"
    }
   ],
   "source": [
    "#Training the model\n",
    "model.train(data, total_examples = model.corpus_count, epochs = model.epochs)"
   ]
  },
  {
   "cell_type": "code",
   "execution_count": 9,
   "metadata": {},
   "outputs": [
    {
     "data": {
      "text/plain": [
       "[('football', 0.648295521736145),\n",
       " ('nhl', 0.645673394203186),\n",
       " ('franchise', 0.6093348264694214),\n",
       " ('basketball', 0.5842990279197693),\n",
       " ('nfl', 0.5825951099395752),\n",
       " ('lockout', 0.5817408561706543),\n",
       " ('players', 0.5756290555000305),\n",
       " ('playoffs', 0.5612039566040039),\n",
       " ('hockey', 0.5574430823326111),\n",
       " ('expos', 0.5549972653388977)]"
      ]
     },
     "execution_count": 9,
     "metadata": {},
     "output_type": "execute_result"
    }
   ],
   "source": [
    "#Testing similar words from the corpus\n",
    "model.wv.most_similar('baseball')"
   ]
  },
  {
   "cell_type": "code",
   "execution_count": 10,
   "metadata": {},
   "outputs": [
    {
     "data": {
      "text/plain": [
       "[('ipod', 0.712005078792572),\n",
       " ('itunes', 0.6999995112419128),\n",
       " ('dell', 0.6775985360145569),\n",
       " ('sony', 0.636110246181488),\n",
       " ('yahoo', 0.59694904088974),\n",
       " ('google', 0.5946887731552124),\n",
       " ('realnetworks', 0.5925344824790955),\n",
       " ('macintosh', 0.5876981616020203),\n",
       " ('music', 0.585974395275116),\n",
       " ('hp', 0.5840809345245361)]"
      ]
     },
     "execution_count": 10,
     "metadata": {},
     "output_type": "execute_result"
    }
   ],
   "source": [
    "#Tesitng similar words from the corpus\n",
    "model.wv.most_similar('apple')"
   ]
  },
  {
   "cell_type": "code",
   "execution_count": 11,
   "metadata": {},
   "outputs": [
    {
     "data": {
      "text/plain": [
       "[('adriano', 0.8861850500106812),\n",
       " ('gudjohnsen', 0.8594332933425903),\n",
       " ('kezman', 0.8511380553245544),\n",
       " ('drogba', 0.8472457528114319),\n",
       " ('didier', 0.8449971079826355),\n",
       " ('pavel', 0.8346201777458191),\n",
       " ('deco', 0.8320674300193787),\n",
       " ('damien', 0.8315231800079346),\n",
       " ('mateja', 0.8312647342681885),\n",
       " ('eidur', 0.8287298083305359)]"
      ]
     },
     "execution_count": 11,
     "metadata": {},
     "output_type": "execute_result"
    }
   ],
   "source": [
    "#Testing similar words form the corpus\n",
    "model.wv.most_similar('ronaldo')"
   ]
  }
 ],
 "metadata": {
  "kernelspec": {
   "display_name": "Python 3",
   "language": "python",
   "name": "python3"
  },
  "language_info": {
   "codemirror_mode": {
    "name": "ipython",
    "version": 3
   },
   "file_extension": ".py",
   "mimetype": "text/x-python",
   "name": "python",
   "nbconvert_exporter": "python",
   "pygments_lexer": "ipython3",
   "version": "3.7.6"
  }
 },
 "nbformat": 4,
 "nbformat_minor": 4
}
